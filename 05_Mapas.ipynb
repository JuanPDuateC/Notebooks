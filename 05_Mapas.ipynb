{
 "cells": [
  {
   "cell_type": "markdown",
   "metadata": {},
   "source": [
    "# Mapas\n",
    "\n",
    "[Cartopy](https://scitools.org.uk/cartopy/) es un paquete de Python diseñado para el procesamiento de datos geoespaciales, para su análisis y representación a través de mapas.\n",
    "\n",
    "Cartopy utiliza las librerías [PROJ.4](https://proj.org/), NumPy and [Shapely](https://shapely.readthedocs.io/) e incluye una interfaz basada en Matplotlib para la creación de mapas de alta calidad.\n",
    "\n",
    "Para cada Mapa, lo primero es definir la [proyección](https://bl.ocks.org/syntagmatic/ba569633d51ebec6ec6e), que define un sistema coordenado de referencia ([CCRS](https://scitools.org.uk/cartopy/docs/latest/crs/projections.html): Cartopy Coordinate Reference Systems)."
   ]
  },
  {
   "cell_type": "markdown",
   "metadata": {},
   "source": [
    "### Instalación del módulo Cartopy en AWS/Linux/conda\n",
    "\n",
    "```bash\n",
    "$ conda config --set channel_priority false\n",
    "$ conda update --all --yes\n",
    "$ conda install -c conda-forge cartopy\n",
    "```"
   ]
  },
  {
   "cell_type": "code",
   "execution_count": null,
   "metadata": {},
   "outputs": [],
   "source": [
    "import matplotlib.pyplot as plt\n",
    "import numpy as np\n",
    "\n",
    "%matplotlib inline"
   ]
  },
  {
   "cell_type": "code",
   "execution_count": null,
   "metadata": {},
   "outputs": [],
   "source": [
    "import io\n",
    "from urllib.request import urlopen, Request\n",
    "from PIL import Image"
   ]
  },
  {
   "cell_type": "code",
   "execution_count": null,
   "metadata": {},
   "outputs": [],
   "source": [
    "import cartopy.crs as ccrs\n",
    "import cartopy.feature as cf\n",
    "import cartopy\n",
    "\n",
    "import shapely.geometry as sgeom"
   ]
  },
  {
   "cell_type": "code",
   "execution_count": null,
   "metadata": {},
   "outputs": [],
   "source": [
    "# Crea una nueva figura (usada para el mapa), y la hace activa:\n",
    "plt.figure()\n",
    "# Agregar una nueva ventana (ejes) a la figura, definiendo el tipo de proyección que se utilizará \n",
    "ax = plt.axes(projection = ccrs.InterruptedGoodeHomolosine())\n",
    "# Define que en esta ventana se usen bordes de las costas\n",
    "ax.coastlines()\n",
    "# plt.savefig('coastlines.pdf')  # Grabar el mapa (o en .png) ANTES de plt.show()\n",
    "# Muestra la figura (mapa) embebida en el notebook\n",
    "plt.show()\n",
    "# Cierra la figura, asi se libera la memoria\n",
    "plt.close()"
   ]
  },
  {
   "cell_type": "code",
   "execution_count": null,
   "metadata": {},
   "outputs": [],
   "source": [
    "plt.figure()\n",
    "ax = plt.axes(projection = ccrs.Mollweide())\n",
    "# Define que en esta ventana se usen imágenes \n",
    "# las imágenes son de https://www.naturalearthdata.com/downloads/50m-raster-data/50m-natural-earth-2/\n",
    "ax.stock_img()\n",
    "plt.show()\n",
    "plt.close()"
   ]
  },
  {
   "cell_type": "code",
   "execution_count": null,
   "metadata": {},
   "outputs": [],
   "source": [
    "plt.figure()\n",
    "ax = plt.axes(projection = ccrs.PlateCarree(central_longitude = -74))\n",
    "ax.coastlines()\n",
    "\n",
    "plt.show()\n",
    "plt.close()"
   ]
  },
  {
   "cell_type": "code",
   "execution_count": null,
   "metadata": {
    "scrolled": true
   },
   "outputs": [],
   "source": [
    "plt.figure()\n",
    "ax = plt.axes(projection = ccrs.Robinson(central_longitude = -74))\n",
    "ax.stock_img()\n",
    "\n",
    "ax.gridlines(color='black', linestyle='--')\n",
    "\n",
    "plt.show()\n",
    "plt.close()"
   ]
  },
  {
   "cell_type": "code",
   "execution_count": null,
   "metadata": {},
   "outputs": [],
   "source": [
    "# Crea una nueva figura, definiendo un tamaño diferente al default: [6.4, 4.8]\n",
    "plt.figure(figsize = [12, 9])\n",
    "ax = plt.axes(projection = ccrs.PlateCarree())\n",
    "ax.stock_img()\n",
    "\n",
    "cali_lon, cali_lat = -76.59, 3.39\n",
    "roma_lon, roma_lat = 12.39, 41.90\n",
    "\n",
    "plt.plot([cali_lon, roma_lon], [cali_lat, roma_lat], \n",
    "         color = 'red', linewidth = 2, marker = 'o', \n",
    "         transform = ccrs.Geodetic(),\n",
    "         )\n",
    "\n",
    "plt.plot([cali_lon, roma_lon], [cali_lat, roma_lat],\n",
    "         color = 'blue', linewidth = 2, linestyle = '--',\n",
    "         transform = ccrs.PlateCarree(),\n",
    "         )\n",
    "\n",
    "plt.text(cali_lon - 2, cali_lat - 8, 'Cali',\n",
    "         horizontalalignment = 'right',\n",
    "         transform = ccrs.Geodetic())\n",
    "\n",
    "plt.text(roma_lon + 2, roma_lat - 8, 'Roma',\n",
    "         horizontalalignment = 'left',\n",
    "         transform = ccrs.Geodetic())\n",
    "\n",
    "plt.show()"
   ]
  },
  {
   "cell_type": "code",
   "execution_count": null,
   "metadata": {},
   "outputs": [],
   "source": [
    "plt.figure(figsize = (10, 8))\n",
    "ax = plt.axes(projection = ccrs.AlbersEqualArea(-75, 7.5))\n",
    "ax.set_extent([-80, -67, -5, 13])\n",
    "\n",
    "ax.add_feature(cf.COASTLINE)\n",
    "ax.add_feature(cf.LAND, edgecolor = 'black')\n",
    "# ax.add_feature(cf.OCEAN)\n",
    "ax.add_feature(cf.RIVERS)\n",
    "ax.add_feature(cf.BORDERS, linestyle=':')\n",
    "\n",
    "ax.gridlines(draw_labels = True, color = 'black', alpha = 0.5, linestyle = '--')\n",
    "\n",
    "plt.show()\n",
    "plt.close()"
   ]
  },
  {
   "cell_type": "code",
   "execution_count": null,
   "metadata": {
    "scrolled": true
   },
   "outputs": [],
   "source": [
    "plt.figure(figsize = [10, 8])\n",
    "ax = plt.axes(projection = ccrs.PlateCarree())\n",
    "# ax.coastlines()\n",
    "\n",
    "ax.stock_img()\n",
    "ax.set_title(\"Ruta propuesta de Phileas Fogg\")\n",
    "\n",
    "places = {\n",
    "    'londres': [-0.1276474, 51.5073219],\n",
    "    'suez': [32.537086, 29.974498],\n",
    "    'bombay': [72.8882172, 19.1334321],\n",
    "    'calcuta': [88.3476023, 22.5677459],\n",
    "    'hong kong': [114.1628131, 22.2793278],\n",
    "    'yokohama': [139.636768, 35.444991],\n",
    "    'san francisco': [-122.4629897, 37.7647993],\n",
    "    'new york': [-73.9866136, 40.7306458]}\n",
    "\n",
    "destinations = [\n",
    "    'londres', 'suez', 'bombay', 'calcuta', 'hong kong',\n",
    "    'yokohama', 'san francisco', 'new york', 'londres']\n",
    "\n",
    "lons, lats = zip( *[ (places[place][0], places[place][1]) for place in destinations ] )\n",
    "\n",
    "ax.plot(lons, lats,\n",
    "        linestyle = '--', color = 'red', linewidth = 4,\n",
    "        transform = ccrs.Geodetic())\n",
    "\n",
    "plt.show()\n",
    "plt.close()"
   ]
  },
  {
   "cell_type": "code",
   "execution_count": null,
   "metadata": {},
   "outputs": [],
   "source": []
  }
 ],
 "metadata": {
  "kernelspec": {
   "display_name": "Python 3",
   "language": "python",
   "name": "python3"
  },
  "language_info": {
   "codemirror_mode": {
    "name": "ipython",
    "version": 3
   },
   "file_extension": ".py",
   "mimetype": "text/x-python",
   "name": "python",
   "nbconvert_exporter": "python",
   "pygments_lexer": "ipython3",
   "version": "3.8.5"
  }
 },
 "nbformat": 4,
 "nbformat_minor": 4
}
