{
 "cells": [
  {
   "cell_type": "markdown",
   "id": "5847f27e",
   "metadata": {},
   "source": [
    "## Markdown Juan Duarte"
   ]
  },
  {
   "cell_type": "markdown",
   "id": "7111e4c9",
   "metadata": {},
   "source": [
    "# Prueba\n",
    "## Prueba\n",
    "### Prueba\n",
    "#### Prueba\n",
    "##### Prueba"
   ]
  },
  {
   "cell_type": "markdown",
   "id": "96c8a1d1",
   "metadata": {},
   "source": [
    "# blockquote\n",
    "\n",
    "> Prueba\n",
    ">> Prueba"
   ]
  },
  {
   "cell_type": "code",
   "execution_count": null,
   "id": "60335ee6",
   "metadata": {},
   "outputs": [],
   "source": [
    "# Enfasis\n",
    "\n",
    "**negrilla**\n",
    "*italicas*\n",
    "~~tachado~~"
   ]
  },
  {
   "cell_type": "code",
   "execution_count": null,
   "id": "4636c0a6",
   "metadata": {},
   "outputs": [],
   "source": [
    "# Enumeración\n",
    "\n",
    "1. Colores\n",
    " 1. azul\n",
    " 2. rojo\n",
    "2. Animales\n",
    " 1.pajaro\n",
    " \n",
    "    \n",
    "* Colores\n",
    " - azul\n",
    " - rojo\n",
    "* Animales\n",
    "  - pajaro\n",
    "    + pajarito"
   ]
  },
  {
   "cell_type": "code",
   "execution_count": null,
   "id": "23a1a0a2",
   "metadata": {},
   "outputs": [],
   "source": [
    "# Codigo\n",
    "\n",
    "Utilizar 4 espacios:\n",
    "    frutas = ['pera','manzana', 'piña']\n",
    "    for fruta in fruta:\n",
    "        print(fruta)\n",
    "\n",
    "En un bloque de código, los TAGs HTML no tiene efecto:\n",
    "    \n",
    "    <html>\n",
    "      <head>\n",
    "        <title> No pasa nada </title>\n",
    "      </head>\n",
    "          <body>\n",
    "          </body>\n",
    "    </html>\n",
    "    \n",
    "También se crea un bloque de código con tiple comilla invertida, y el indico el lenguage:\n",
    "    \n",
    "```python\n",
    "    frutas = ['pera','manzana', 'piña']\n",
    "    for fruta in fruta:\n",
    "        print(fruta)\n",
    "```\n",
    "```html\n",
    "    <html>\n",
    "      <head>\n",
    "        <title> No pasa nada </title>\n",
    "      </head>\n",
    "      <body>\n",
    "      </body>\n",
    "    </html>\n",
    "```"
   ]
  },
  {
   "cell_type": "markdown",
   "id": "c4f9a44c",
   "metadata": {},
   "source": [
    "## imagenes\n"
   ]
  },
  {
   "cell_type": "markdown",
   "id": "15f1d3d8",
   "metadata": {},
   "source": [
    "# Tablas\n",
    "\n",
    "|Cedula|Nombre|Ciudad|\n",
    "|------|------|------|\n",
    "|39494423|Juan|Cali|\n",
    "|1101894333|Angie|Cartago|\n",
    "|1014888234|Pedro|Bogota|"
   ]
  },
  {
   "cell_type": "markdown",
   "id": "ec54a9a9",
   "metadata": {},
   "source": [
    "# comandos"
   ]
  },
  {
   "cell_type": "markdown",
   "id": "4274e6ef",
   "metadata": {},
   "source": []
  },
  {
   "cell_type": "code",
   "execution_count": null,
   "id": "24703b8a",
   "metadata": {},
   "outputs": [],
   "source": [
    "! crea un nuevo shell donde crea el comando  \n",
    "!pwd \n",
    "!cd /tmp\n",
    "!ls -l\n",
    "\n",
    "\n",
    "% no crea un nuevo shell solo manda el comando al proceso en ejecución, para correr en el directorio de data ejemplo cd /Notebooks\n",
    "%cd /tmp\n",
    "%ls -l"
   ]
  },
  {
   "cell_type": "code",
   "execution_count": 4,
   "id": "cceb3477",
   "metadata": {},
   "outputs": [
    {
     "data": {
      "application/json": {
       "cell": {
        "!": "OSMagics",
        "HTML": "Other",
        "SVG": "Other",
        "bash": "Other",
        "capture": "ExecutionMagics",
        "debug": "ExecutionMagics",
        "file": "Other",
        "html": "DisplayMagics",
        "javascript": "DisplayMagics",
        "js": "DisplayMagics",
        "latex": "DisplayMagics",
        "markdown": "DisplayMagics",
        "perl": "Other",
        "prun": "ExecutionMagics",
        "pypy": "Other",
        "python": "Other",
        "python2": "Other",
        "python3": "Other",
        "ruby": "Other",
        "script": "ScriptMagics",
        "sh": "Other",
        "svg": "DisplayMagics",
        "sx": "OSMagics",
        "system": "OSMagics",
        "time": "ExecutionMagics",
        "timeit": "ExecutionMagics",
        "writefile": "OSMagics"
       },
       "line": {
        "alias": "OSMagics",
        "alias_magic": "BasicMagics",
        "autoawait": "AsyncMagics",
        "autocall": "AutoMagics",
        "automagic": "AutoMagics",
        "autosave": "KernelMagics",
        "bookmark": "OSMagics",
        "cat": "Other",
        "cd": "OSMagics",
        "clear": "KernelMagics",
        "colors": "BasicMagics",
        "conda": "PackagingMagics",
        "config": "ConfigMagics",
        "connect_info": "KernelMagics",
        "cp": "Other",
        "debug": "ExecutionMagics",
        "dhist": "OSMagics",
        "dirs": "OSMagics",
        "doctest_mode": "BasicMagics",
        "ed": "Other",
        "edit": "KernelMagics",
        "env": "OSMagics",
        "gui": "BasicMagics",
        "hist": "Other",
        "history": "HistoryMagics",
        "killbgscripts": "ScriptMagics",
        "ldir": "Other",
        "less": "KernelMagics",
        "lf": "Other",
        "lk": "Other",
        "ll": "Other",
        "load": "CodeMagics",
        "load_ext": "ExtensionMagics",
        "loadpy": "CodeMagics",
        "logoff": "LoggingMagics",
        "logon": "LoggingMagics",
        "logstart": "LoggingMagics",
        "logstate": "LoggingMagics",
        "logstop": "LoggingMagics",
        "ls": "Other",
        "lsmagic": "BasicMagics",
        "lx": "Other",
        "macro": "ExecutionMagics",
        "magic": "BasicMagics",
        "man": "KernelMagics",
        "matplotlib": "PylabMagics",
        "mkdir": "Other",
        "more": "KernelMagics",
        "mv": "Other",
        "notebook": "BasicMagics",
        "page": "BasicMagics",
        "pastebin": "CodeMagics",
        "pdb": "ExecutionMagics",
        "pdef": "NamespaceMagics",
        "pdoc": "NamespaceMagics",
        "pfile": "NamespaceMagics",
        "pinfo": "NamespaceMagics",
        "pinfo2": "NamespaceMagics",
        "pip": "PackagingMagics",
        "popd": "OSMagics",
        "pprint": "BasicMagics",
        "precision": "BasicMagics",
        "prun": "ExecutionMagics",
        "psearch": "NamespaceMagics",
        "psource": "NamespaceMagics",
        "pushd": "OSMagics",
        "pwd": "OSMagics",
        "pycat": "OSMagics",
        "pylab": "PylabMagics",
        "qtconsole": "KernelMagics",
        "quickref": "BasicMagics",
        "recall": "HistoryMagics",
        "rehashx": "OSMagics",
        "reload_ext": "ExtensionMagics",
        "rep": "Other",
        "rerun": "HistoryMagics",
        "reset": "NamespaceMagics",
        "reset_selective": "NamespaceMagics",
        "rm": "Other",
        "rmdir": "Other",
        "run": "ExecutionMagics",
        "save": "CodeMagics",
        "sc": "OSMagics",
        "set_env": "OSMagics",
        "store": "StoreMagics",
        "sx": "OSMagics",
        "system": "OSMagics",
        "tb": "ExecutionMagics",
        "time": "ExecutionMagics",
        "timeit": "ExecutionMagics",
        "unalias": "OSMagics",
        "unload_ext": "ExtensionMagics",
        "who": "NamespaceMagics",
        "who_ls": "NamespaceMagics",
        "whos": "NamespaceMagics",
        "xdel": "NamespaceMagics",
        "xmode": "BasicMagics"
       }
      },
      "text/plain": [
       "Available line magics:\n",
       "%alias  %alias_magic  %autoawait  %autocall  %automagic  %autosave  %bookmark  %cat  %cd  %clear  %colors  %conda  %config  %connect_info  %cp  %debug  %dhist  %dirs  %doctest_mode  %ed  %edit  %env  %gui  %hist  %history  %killbgscripts  %ldir  %less  %lf  %lk  %ll  %load  %load_ext  %loadpy  %logoff  %logon  %logstart  %logstate  %logstop  %ls  %lsmagic  %lx  %macro  %magic  %man  %matplotlib  %mkdir  %more  %mv  %notebook  %page  %pastebin  %pdb  %pdef  %pdoc  %pfile  %pinfo  %pinfo2  %pip  %popd  %pprint  %precision  %prun  %psearch  %psource  %pushd  %pwd  %pycat  %pylab  %qtconsole  %quickref  %recall  %rehashx  %reload_ext  %rep  %rerun  %reset  %reset_selective  %rm  %rmdir  %run  %save  %sc  %set_env  %store  %sx  %system  %tb  %time  %timeit  %unalias  %unload_ext  %who  %who_ls  %whos  %xdel  %xmode\n",
       "\n",
       "Available cell magics:\n",
       "%%!  %%HTML  %%SVG  %%bash  %%capture  %%debug  %%file  %%html  %%javascript  %%js  %%latex  %%markdown  %%perl  %%prun  %%pypy  %%python  %%python2  %%python3  %%ruby  %%script  %%sh  %%svg  %%sx  %%system  %%time  %%timeit  %%writefile\n",
       "\n",
       "Automagic is ON, % prefix IS NOT needed for line magics."
      ]
     },
     "execution_count": 4,
     "metadata": {},
     "output_type": "execute_result"
    }
   ],
   "source": [
    "%lsmagic"
   ]
  },
  {
   "cell_type": "code",
   "execution_count": null,
   "id": "cb4cf36e",
   "metadata": {},
   "outputs": [],
   "source": []
  }
 ],
 "metadata": {
  "kernelspec": {
   "display_name": "Python 3",
   "language": "python",
   "name": "python3"
  },
  "language_info": {
   "codemirror_mode": {
    "name": "ipython",
    "version": 3
   },
   "file_extension": ".py",
   "mimetype": "text/x-python",
   "name": "python",
   "nbconvert_exporter": "python",
   "pygments_lexer": "ipython3",
   "version": "3.8.8"
  }
 },
 "nbformat": 4,
 "nbformat_minor": 5
}
