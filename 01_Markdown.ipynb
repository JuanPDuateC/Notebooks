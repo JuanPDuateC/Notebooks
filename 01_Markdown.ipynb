{
 "cells": [
  {
   "cell_type": "markdown",
   "id": "5847f27e",
   "metadata": {},
   "source": [
    "## Markdown Juan Duarte"
   ]
  },
  {
   "cell_type": "markdown",
   "id": "26832974",
   "metadata": {},
   "source": [
    "# Prueba\n",
    "## Prueba\n",
    "### Prueba\n",
    "#### Prueba\n",
    "##### Prueba"
   ]
  },
  {
   "cell_type": "markdown",
   "id": "0ab1fa31",
   "metadata": {},
   "source": [
    "# blockquote\n",
    "\n",
    "> Prueba\n",
    ">> Prueba"
   ]
  },
  {
   "cell_type": "code",
   "execution_count": null,
   "id": "ebdcfa08",
   "metadata": {},
   "outputs": [],
   "source": [
    "# Enfasis\n",
    "\n",
    "**negrilla**\n",
    "*italicas*\n",
    "~~tachado~~"
   ]
  },
  {
   "cell_type": "markdown",
   "id": "aa05c1f4",
   "metadata": {},
   "source": [
    "# Enumeración\n",
    "\n",
    "1. Colores\n",
    " 1. azul\n",
    " 2. rojo\n",
    "2. Animales\n",
    " 1.pajaro\n",
    "    1. pichi\n",
    "    \n",
    "* Colores\n",
    " - azul\n",
    " - rojo\n",
    "* Animales\n",
    "  - pajaro\n",
    "    + pajarito"
   ]
  },
  {
   "cell_type": "code",
   "execution_count": null,
   "id": "eca1c419",
   "metadata": {},
   "outputs": [],
   "source": [
    "# Codigo\n",
    "\n",
    "Utilizar 4 espacios:\n",
    "    frutas = ['pera','manzana', 'piña']\n",
    "    for fruta in fruta:\n",
    "        print(fruta)\n",
    "\n",
    "En un bloque de código, los TAGs HTML no tiene efecto:\n",
    "    \n",
    "    <html>\n",
    "      <head>\n",
    "        <title> No pasa nada </title>\n",
    "      </head>\n",
    "          <body>\n",
    "          </body>\n",
    "    </html>\n",
    "    \n",
    "También se crea un bloque de código con tiple comilla invertida, y el indico el lenguage:\n",
    "    \n",
    "```python\n",
    "    frutas = ['pera','manzana', 'piña']\n",
    "    for fruta in fruta:\n",
    "        print(fruta)\n",
    "```\n",
    "```html\n",
    "    <html>\n",
    "      <head>\n",
    "        <title> No pasa nada </title>\n",
    "      </head>\n",
    "      <body>\n",
    "      </body>\n",
    "    </html>\n",
    "```"
   ]
  },
  {
   "cell_type": "markdown",
   "id": "71fc9b4f",
   "metadata": {},
   "source": [
    "# Tablas\n",
    "\n",
    "|Cedula|Nombre|Ciudad|\n",
    "|------|------|------|\n",
    "|39494423|Juan|Cali|\n",
    "|1101894333|Angie|Cartago|\n",
    "|1014888234|Pedro|Bogota|"
   ]
  },
  {
   "cell_type": "markdown",
   "id": "d6032c12",
   "metadata": {},
   "source": [
    "# comandos"
   ]
  },
  {
   "cell_type": "markdown",
   "id": "9643b205",
   "metadata": {},
   "source": []
  },
  {
   "cell_type": "code",
   "execution_count": null,
   "id": "5dcff1b5",
   "metadata": {},
   "outputs": [],
   "source": [
    "! crea un nuevo shell donde crea el comando  \n",
    "!pwd \n",
    "!cd /tmp\n",
    "!ls -l\n",
    "\n",
    "\n",
    "% no crea un nuevo shell solo manda el comando al proceso en ejecución, pa correr en el directorio de data ejemplo cd /Notebooks\n",
    "%cd /tmp\n",
    "%ls -l"
   ]
  },
  {
   "cell_type": "code",
   "execution_count": null,
   "id": "f7b66926",
   "metadata": {},
   "outputs": [],
   "source": []
  }
 ],
 "metadata": {
  "kernelspec": {
   "display_name": "Python 3",
   "language": "python",
   "name": "python3"
  },
  "language_info": {
   "codemirror_mode": {
    "name": "ipython",
    "version": 3
   },
   "file_extension": ".py",
   "mimetype": "text/x-python",
   "name": "python",
   "nbconvert_exporter": "python",
   "pygments_lexer": "ipython3",
   "version": "3.8.8"
  }
 },
 "nbformat": 4,
 "nbformat_minor": 5
}
