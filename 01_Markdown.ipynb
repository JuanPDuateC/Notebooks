{
 "cells": [
  {
   "cell_type": "markdown",
   "id": "5847f27e",
   "metadata": {},
   "source": [
    "## Markdown Juan Duarte"
   ]
  },
  {
   "cell_type": "markdown",
   "id": "39b69334",
   "metadata": {},
   "source": [
    "# Prueba\n",
    "## Prueba\n",
    "### Prueba\n",
    "#### Prueba\n",
    "##### Prueba"
   ]
  },
  {
   "cell_type": "markdown",
   "id": "72136ad4",
   "metadata": {},
   "source": [
    "# blockquote\n",
    "\n",
    "> Prueba\n",
    ">> Prueba"
   ]
  },
  {
   "cell_type": "code",
   "execution_count": null,
   "id": "435dddd7",
   "metadata": {},
   "outputs": [],
   "source": [
    "# Enfasis\n",
    "\n",
    "**negrilla**\n",
    "*italicas*\n",
    "~~tachado~~"
   ]
  },
  {
   "cell_type": "code",
   "execution_count": null,
   "id": "e93294f3",
   "metadata": {},
   "outputs": [],
   "source": [
    "1. Colores\n",
    " 1. azul\n",
    " 2. rojo\n",
    "2. Animales\n",
    " 1.pajaro\n",
    "    1. pichi\n",
    "    \n",
    "* Colores\n",
    " - azul\n",
    " - rojo\n",
    "* Animales\n",
    "  - pajaro\n",
    "    + pajarito"
   ]
  },
  {
   "cell_type": "code",
   "execution_count": null,
   "id": "cb978316",
   "metadata": {},
   "outputs": [],
   "source": []
  }
 ],
 "metadata": {
  "kernelspec": {
   "display_name": "Python 3",
   "language": "python",
   "name": "python3"
  },
  "language_info": {
   "codemirror_mode": {
    "name": "ipython",
    "version": 3
   },
   "file_extension": ".py",
   "mimetype": "text/x-python",
   "name": "python",
   "nbconvert_exporter": "python",
   "pygments_lexer": "ipython3",
   "version": "3.8.8"
  }
 },
 "nbformat": 4,
 "nbformat_minor": 5
}
